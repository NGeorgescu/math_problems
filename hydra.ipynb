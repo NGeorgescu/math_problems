{
 "cells": [
  {
   "cell_type": "markdown",
   "id": "c431fc3e-04e7-46a5-bcd7-4383daae11f1",
   "metadata": {},
   "source": [
    "# Solving Hydra(5): How Many Steps Would It Take to Slay a Five-Length Hydra?\n",
    "\n",
    "\n",
    "## Nicholas S Georgescu\n",
    "\n",
    "#### Published 2024-05-28 (originally [here](https://github.com/NGeorgescu/Hydra-Game/blob/main/Hydra.ipynb))\n",
    "\n",
    "[This video](https://www.youtube.com/watch?v=prURA1i8Qj4) by Prof. Tom Crawford and Brady Haran featured on Numberphile has inspired this analysis.\n",
    "\n",
    "In brief, the we want to know the number of cuts it takes to slay a hydra, which is done by recursively cutting heads at the lowest level greedily.  Each time a head is cut a number of heads appears at the grandfather node to the cut head equal to the number of cuts made up to this point in the slaying.  \n",
    "\n",
    "A good data structure for this is a list to track the current number of heads and an integer for the current step count for the number of cuts.  Since heads are greedily removed down to one, we just need to know the number at each level, and we continue cutting and attaching one level up."
   ]
  },
  {
   "cell_type": "markdown",
   "id": "fafcc5f2-4aba-4f6b-a9e0-d7bcaf45f507",
   "metadata": {},
   "source": [
    "### setup for solving the problem\n",
    "\n",
    "some imports that you don't need but might be handy"
   ]
  },
  {
   "cell_type": "code",
   "execution_count": 1,
   "id": "1814a1da-d91c-4fcb-8344-03fc56944d14",
   "metadata": {},
   "outputs": [],
   "source": [
    "from tqdm import tqdm\n",
    "from functools import lru_cache\n",
    "import math\n",
    "import sympy as sp"
   ]
  },
  {
   "cell_type": "markdown",
   "id": "b1caa921-35d8-49a5-88ff-2525b7efafe9",
   "metadata": {},
   "source": [
    "In case you need to increase the python printout size"
   ]
  },
  {
   "cell_type": "code",
   "execution_count": 2,
   "id": "960938f2-0db2-41a8-8ddc-d4e00ad81443",
   "metadata": {},
   "outputs": [],
   "source": [
    "# import sys\n",
    "# sys.set_int_max_str_digits(4300)"
   ]
  },
  {
   "cell_type": "markdown",
   "id": "21db83fe-2608-478d-bd6c-fe506a932e64",
   "metadata": {},
   "source": [
    "we need to first define this function which will turn out to be useful"
   ]
  },
  {
   "cell_type": "code",
   "execution_count": 3,
   "id": "c79aa19b-e7e8-4ad5-ba8f-abf07d8bb70c",
   "metadata": {},
   "outputs": [
    {
     "data": {
      "text/plain": [
       "[2, 6, 16, 40, 96, 224, 512, 1152, 2560, 5632]"
      ]
     },
     "execution_count": 3,
     "metadata": {},
     "output_type": "execute_result"
    }
   ],
   "source": [
    "def f(x:int) -> int: \n",
    "    return (x+1)*2**(x-1)\n",
    "\n",
    "[f(x) for x in [1,2,3,4,5,6,7,8,9,10]]"
   ]
  },
  {
   "cell_type": "markdown",
   "id": "c1d19ff5-9d3d-4bf1-878b-97f2c8937505",
   "metadata": {},
   "source": [
    "we then need to define another useful function which is defined as repeated applications of f\n",
    "\n",
    "e.g. f(f(f(x)))=(x,3)"
   ]
  },
  {
   "cell_type": "code",
   "execution_count": 4,
   "id": "8f9cf621-429d-4296-aa13-d9858da852a2",
   "metadata": {},
   "outputs": [
    {
     "data": {
      "text/plain": [
       "[2,\n",
       " 6,\n",
       " 224,\n",
       " 3032994000054446976900039197289708450784178747535814404124156153036800]"
      ]
     },
     "execution_count": 4,
     "metadata": {},
     "output_type": "execute_result"
    }
   ],
   "source": [
    "def a(x:int,n:int) -> int:\n",
    "    for _ in range(n): x = f(x)\n",
    "    return x\n",
    "\n",
    "# in case you're wondering how quickly these get huge\n",
    "[a(2,n) for n in [0,1,2,3]]"
   ]
  },
  {
   "cell_type": "markdown",
   "id": "cee4168b-c1ee-4544-b201-7fd550aed56c",
   "metadata": {},
   "source": [
    "let's define a function that calculates the number of chops of an actual hydra"
   ]
  },
  {
   "cell_type": "code",
   "execution_count": 5,
   "id": "41af9ab5-7894-4331-bd54-7810a4f9b0cd",
   "metadata": {},
   "outputs": [],
   "source": [
    "def calculate_hydra(length, axial_count=1, initial_step=1, break_on_len_change=False):\n",
    "    \"\"\"\n",
    "    calculates the actual hydra\n",
    "\n",
    "    Parameters\n",
    "    ----------\n",
    "    length : int\n",
    "        length of the initial hydra\n",
    "    axial_count : int, option\n",
    "        count of the topmost head, e.g. if [1,1,1,5] then axial_count=5 \n",
    "    initial_step : int, optional\n",
    "        initial step counter value (implying there's some history, if not then we start on the first step)\n",
    "    break_on_len_change:bool, optional\n",
    "        halts the operation if the length of the hydra changes\n",
    "\n",
    "    Returns\n",
    "    -------\n",
    "    step : int\n",
    "        returns the final step, or number of chops that have been performed.\n",
    "\n",
    "    \"\"\"\n",
    "    hydra,step = [1]*(length-1)+[axial_count],initial_step # [1,1,1....,m],  initial step \n",
    "    while hydra:\n",
    "        position, value = next(filter(lambda x: x[1]!=1, enumerate(hydra)), (None,None))\n",
    "        # if position == len(hydra)-1 and step!=initial_step and break_on_axial: return hydra,step\n",
    "        if value:\n",
    "            hydra[position-1],hydra[position],step=(hydra[position-1]+step,hydra[position]-1,step+1) if position else (hydra[position-1],1,step+hydra[position]-1)\n",
    "        else: # [1,1,1....,1]\n",
    "            hydra.pop()\n",
    "            if hydra: \n",
    "                hydra[-1],step=hydra[-1]+step,step+1\n",
    "                if break_on_len_change: return hydra,step\n",
    "            else: break\n",
    "    return step"
   ]
  },
  {
   "cell_type": "markdown",
   "id": "d7ba8f5c-32ef-4081-9692-63a404a95541",
   "metadata": {},
   "source": [
    "let's use this function to calculate the number of chops for hydras of increasing length"
   ]
  },
  {
   "cell_type": "code",
   "execution_count": 6,
   "id": "3a1f9a13-00ef-43aa-86d8-d0193da60814",
   "metadata": {
    "scrolled": true
   },
   "outputs": [
    {
     "data": {
      "text/plain": [
       "3"
      ]
     },
     "execution_count": 6,
     "metadata": {},
     "output_type": "execute_result"
    }
   ],
   "source": [
    "calculate_hydra(2)"
   ]
  },
  {
   "cell_type": "code",
   "execution_count": 7,
   "id": "035d0b47-ce28-4299-ba77-ff0aa8b573d2",
   "metadata": {},
   "outputs": [
    {
     "data": {
      "text/plain": [
       "11"
      ]
     },
     "execution_count": 7,
     "metadata": {},
     "output_type": "execute_result"
    }
   ],
   "source": [
    "calculate_hydra(3)"
   ]
  },
  {
   "cell_type": "code",
   "execution_count": 8,
   "id": "26c54c38-35ca-42f7-b15c-b3ea6aec39aa",
   "metadata": {},
   "outputs": [
    {
     "data": {
      "text/plain": [
       "1114111"
      ]
     },
     "execution_count": 8,
     "metadata": {},
     "output_type": "execute_result"
    }
   ],
   "source": [
    "calculate_hydra(4)"
   ]
  },
  {
   "cell_type": "markdown",
   "id": "c8edda8d-8bf8-4697-b08d-5ba82f49f1e8",
   "metadata": {},
   "source": [
    "so now the question: what is the value of `calculate_hydra(5)`?\n",
    "\n",
    "to get an idea, let's break on len change with this number.  now `[1,1,1,1,1],1` is going to be equal to `[1,1,1,2],2`.  So let's do that:"
   ]
  },
  {
   "cell_type": "code",
   "execution_count": 9,
   "id": "bbe57184-4d1f-47de-a85a-19972b0c357f",
   "metadata": {},
   "outputs": [
    {
     "data": {
      "text/plain": [
       "([1, 1, 22539988369408], 22539988369408)"
      ]
     },
     "execution_count": 9,
     "metadata": {},
     "output_type": "execute_result"
    }
   ],
   "source": [
    "calculate_hydra(4,2,2,break_on_len_change=True)"
   ]
  },
  {
   "cell_type": "markdown",
   "id": "e8bae29f-0d2e-42f7-8396-b91fc953d6df",
   "metadata": {},
   "source": [
    "so if we can find the `[1,1,x],y` for any arbitrary x and y for a three-length hydra then we're all set.  It should be noted that it's rather interesting that the number 22539988369408 isn't out of nowhere:"
   ]
  },
  {
   "cell_type": "code",
   "execution_count": 10,
   "id": "9dbd177d-c479-44e3-90bb-419dbed3c0b3",
   "metadata": {},
   "outputs": [
    {
     "data": {
      "text/plain": [
       "22539988369408"
      ]
     },
     "execution_count": 10,
     "metadata": {},
     "output_type": "execute_result"
    }
   ],
   "source": [
    "f(40)"
   ]
  },
  {
   "cell_type": "markdown",
   "id": "936c397e-b66e-4c18-8c8e-7590ee661c3a",
   "metadata": {},
   "source": [
    "### Solving a hydra of form [1,1,x],y\n",
    "let's deal with x and y in a three-length hydra. let's deal with y first.  What we really want to know is how long it takes for [1,1,x],y to reach a hydra of [1,1,(x-1)].  Since this is independent of x, we can just solve `[1,1,1],y` for any y."
   ]
  },
  {
   "cell_type": "code",
   "execution_count": 11,
   "id": "a61d27f7-e0f5-4308-b727-f9a433858e6b",
   "metadata": {},
   "outputs": [
    {
     "data": {
      "text/plain": [
       "[([2], 2),\n",
       " ([6], 6),\n",
       " ([16], 16),\n",
       " ([40], 40),\n",
       " ([96], 96),\n",
       " ([224], 224),\n",
       " ([512], 512)]"
      ]
     },
     "execution_count": 11,
     "metadata": {},
     "output_type": "execute_result"
    }
   ],
   "source": [
    "[calculate_hydra(2,i,i,break_on_len_change=True) for i in [1,2,3,4,5,6,7]]"
   ]
  },
  {
   "cell_type": "markdown",
   "id": "a9f2c5cc-47d8-4bef-a789-6241aadef543",
   "metadata": {},
   "source": [
    "which is not so weird because if you'll recall:"
   ]
  },
  {
   "cell_type": "code",
   "execution_count": 12,
   "id": "7129c4b6-54bd-471a-afbc-6a508e998be0",
   "metadata": {},
   "outputs": [
    {
     "data": {
      "text/plain": [
       "[2, 6, 16, 40, 96, 224, 512]"
      ]
     },
     "execution_count": 12,
     "metadata": {},
     "output_type": "execute_result"
    }
   ],
   "source": [
    "[f(x) for x in [1,2,3,4,5,6,7]]"
   ]
  },
  {
   "cell_type": "markdown",
   "id": "3e5c37b8-6429-4aac-a272-5b95ca8d9957",
   "metadata": {},
   "source": [
    "so for a hydra and initial step, of form `[1,1,1],y` is equivalent to `[1,f(y)],f(y)`.  We know that a hydra of form `[x],y` is equal to `x+y`.  A length-two hydra is left as an exercise to the reader, but will also depend on the f function above.\n",
    "\n",
    "What this means that the final step is a function of `f(y)`.  What about increasing x?  Well if you'll recall, solving a hydra of form `[1,1,1],y` is equivalent to going from `[1,1,x],y` to `[1,1,(x-1)],s`.  So x just represents repeated applications of f.  Let's see if this pans out:"
   ]
  },
  {
   "cell_type": "code",
   "execution_count": 13,
   "id": "a3eb1ea0-3e8a-4033-bb71-b102ea0c1ddb",
   "metadata": {},
   "outputs": [
    {
     "data": {
      "text/plain": [
       "[11, 31, 79, 191, 447, 1023, 2303]"
      ]
     },
     "execution_count": 13,
     "metadata": {},
     "output_type": "execute_result"
    }
   ],
   "source": [
    "# calculate_hydra(length, axial_count, initial_step)\n",
    "\n",
    "[calculate_hydra(3,1,y) for y in [1,2,3,4,5,6,7]]"
   ]
  },
  {
   "cell_type": "code",
   "execution_count": 14,
   "id": "eaea2bba-0e69-4537-927e-2a9bf48497fe",
   "metadata": {},
   "outputs": [
    {
     "data": {
      "text/plain": [
       "[3, 4, 5, 6, 7, 8, 9]"
      ]
     },
     "execution_count": 14,
     "metadata": {},
     "output_type": "execute_result"
    }
   ],
   "source": [
    "[calculate_hydra(1,3,y) for y in [1,2,3,4,5,6,7]]"
   ]
  },
  {
   "cell_type": "markdown",
   "id": "24a4f414-fc7e-4911-9db5-95015308c3ae",
   "metadata": {},
   "source": [
    "If you do some playing around with the f function you'll find that"
   ]
  },
  {
   "cell_type": "code",
   "execution_count": 15,
   "id": "c867f84d-e958-40b7-89e3-ce6fbb22b618",
   "metadata": {},
   "outputs": [
    {
     "data": {
      "text/plain": [
       "True"
      ]
     },
     "execution_count": 15,
     "metadata": {},
     "output_type": "execute_result"
    }
   ],
   "source": [
    "all([\n",
    "    calculate_hydra(3, axial_count, initial_step) \n",
    "    == \n",
    "    2*a(initial_step+1,axial_count)-1\n",
    "\n",
    "    for axial_count, initial_step in\n",
    "[(1,1),(2,1),(3,1),(1,2),(2,2),(1,3),(2,3),(1,4)]])"
   ]
  },
  {
   "cell_type": "markdown",
   "id": "492d5b08-5f4f-459f-a8ed-786a2bdb9ac1",
   "metadata": {},
   "source": [
    "Since the hydra `[1,1,1,1,1], 1` is equal to the hydra  `[1,1,f(40)], f(40)` and a hydra of the form `[1,1,x], y` is equal to `2*a(y+1,x)-1`, then the five-length hydra is precisely the value `2*a(f(40)+1,f(40))-1`."
   ]
  },
  {
   "cell_type": "markdown",
   "id": "2e45c280-b9e5-434c-853f-70418cb9a3f1",
   "metadata": {},
   "source": [
    "### How big is Hydra(5)?\n",
    "\n",
    "How big is that? We can recognize that f(40) itself is, in fact, f(f(4)).  If we want to write this in up-arrow notation, we're looking at 2↑↑44, since:"
   ]
  },
  {
   "cell_type": "code",
   "execution_count": 16,
   "id": "c9c70ddf-8b75-492d-ad62-05929a16fc12",
   "metadata": {},
   "outputs": [
    {
     "data": {
      "text/plain": [
       "44"
      ]
     },
     "execution_count": 16,
     "metadata": {},
     "output_type": "execute_result"
    }
   ],
   "source": [
    "int(math.log2(f(40)))"
   ]
  },
  {
   "cell_type": "markdown",
   "id": "c4f31c79-5e19-43d6-b7ef-0102a0d2b212",
   "metadata": {},
   "source": [
    "we also can approximate the f(x) function as 2↑x, since (x+1)>2 and 2**(x)>>(x+1) for values of x we care about.\n",
    "\n",
    "Since f(f(4) = 2↑44, then applying 2↑ a number of 2↑44 times.  Thus an up-arrow-notation approximation for Hydra(5) is 2↑↑(2↑44).  If you want a more simplified arrow notation it's 2↑↑↑4 < Hydra(5) << 2↑↑↑5.\n",
    "\n",
    "Even though a power tower of 2s that is 22 trillion tall seems incomprehensibly large, this makes it vastly smaller than even g1 of graham's number, which is 3↑↑↑↑3, which is absolutely gargantuan by comparison."
   ]
  }
 ],
 "metadata": {
  "kernelspec": {
   "display_name": "Python 3 (ipykernel)",
   "language": "python",
   "name": "python3"
  },
  "language_info": {
   "codemirror_mode": {
    "name": "ipython",
    "version": 3
   },
   "file_extension": ".py",
   "mimetype": "text/x-python",
   "name": "python",
   "nbconvert_exporter": "python",
   "pygments_lexer": "ipython3",
   "version": "3.12.4"
  }
 },
 "nbformat": 4,
 "nbformat_minor": 5
}
