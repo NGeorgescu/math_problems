{
 "cells": [
  {
   "cell_type": "markdown",
   "id": "0d8642de-d41d-427e-8a83-343b8ef55cb2",
   "metadata": {},
   "source": [
    "# Solving the Four-Player Intransitive Dice Problem\n",
    "\n",
    "Intransitive (or Non-transitive) dice are dice which have a greater than 50% chance of winning in some kind of cyclical (rock-paper-scissors-like) pattern. For instance, Die A beats B, B beats C, and paradoxically enough, C beats A.  It seems unusual that such a thing could exist but, funnily enough, it can, and is [well documented](https://en.wikipedia.org/wiki/Intransitive_dice)\n",
    "\n",
    "So the question is how many dice do you need such that you can you find a die that will always beat some selection of dice by some other players?\n",
    "\n",
    "Let's say you have only one friend.   Any set of three intransitive dice will work, because if they pick C, you pick B, etc.  But what about if you have two friends?  The same set will force you to lose to one and win to the other.  But we want to beat both!  If you try adding in two dice to bring the total to five dice, you'll find that again, it's possible for your friends to pick two dice that have no common winner.  (In rock-paper-scissors-lizard-Spock terms, think if they pick Spock and scissors. Rock, paper, and lizard lose to Spock, scissors, and scissors respectively.)\n",
    "\n",
    "It can be shown, however, that from a set of seven properly constructed dice, one can pull a die that beats any combination of two dice.  Thus the three-player game is solved with oscar's dice.\n",
    "\n",
    "Can we make some combination that solves for four players?  Yes! (although I call that p=3 because I'm just interested in the adversarial players)\n",
    "\n",
    "Let's look at the three-player version for some hints. Oscar's dice are three-sided dice (or doubled-up six-sided dice) that have some interesting properties.  I'll substract one off of all the faces to zero-index it, and show only the three-sided die version:"
   ]
  },
  {
   "cell_type": "code",
   "execution_count": 1,
   "id": "98616077-31ee-4429-806f-346b60e58cfe",
   "metadata": {},
   "outputs": [],
   "source": [
    "import numpy as np\n",
    "oscar_dice = np.array([[0, 11, 19], [1, 13, 16], [2, 8, 20], [3, 10, 17], [4, 12, 14], [5, 7, 18], [6, 9, 15]])"
   ]
  },
  {
   "cell_type": "markdown",
   "id": "3f7b75ac-db2e-4f65-8c2a-530bee742f47",
   "metadata": {},
   "source": [
    "There are a few things to notice:\n",
    "\n",
    "- there's a low, medium and high face for each of the dice, and they are the numbers 0 through 6 offset by 7 each time.\n",
    "- therefore we can just number each of the dice by the lowest face\n",
    "- the total of each die is the same\n",
    "- the number of faces is (n-1)/2\n",
    "- the \"middle die\", is 3 mod 7 for all the faces\n",
    "- the modulus is on rotation.  So it skips forward one on the lowest face, two on the highest, and four in the middle.  Take a look:"
   ]
  },
  {
   "cell_type": "code",
   "execution_count": 2,
   "id": "3f290fe3-3e06-4d84-89f4-7d109ee01293",
   "metadata": {},
   "outputs": [
    {
     "data": {
      "text/plain": [
       "{'lowest': [0, 1, 2, 3, 4, 5, 6],\n",
       " 'middle': [4, 6, 1, 3, 5, 0, 2],\n",
       " 'highest': [5, 2, 6, 3, 0, 4, 1]}"
      ]
     },
     "execution_count": 2,
     "metadata": {},
     "output_type": "execute_result"
    }
   ],
   "source": [
    "dict(zip('lowest middle highest'.split(),(oscar_dice%7).T.tolist()))"
   ]
  },
  {
   "cell_type": "markdown",
   "id": "bd8f5d8b-216b-49cb-97e5-20baa07a8d20",
   "metadata": {},
   "source": [
    "We took the modulus, and the lowest has sequential values adjacent to each other, the highest, with one skip, and the middle with a skip forward of four (look a the positioning of 2 and 4 with respect to 3)."
   ]
  },
  {
   "cell_type": "markdown",
   "id": "c95976fb-2f6a-4184-a5fe-9cc52841f707",
   "metadata": {},
   "source": [
    "According to [Ried et al](https://www.researchgate.net/publication/266258217_Domination_and_irredundance_in_tournaments), the number of dice needed for a four-player domination tournament is 19.  I was not able to find a solution for 19, nor 21 (it works better for primes because the skipping-ahead trick shown above doesn't work for skips of 3 and 7).  But I found a solution for 23.  Observe:"
   ]
  },
  {
   "cell_type": "code",
   "execution_count": 3,
   "id": "2470a370-b8a1-4799-980d-0df2f96a04d1",
   "metadata": {},
   "outputs": [],
   "source": [
    "import numpy as np\n",
    "from collections import Counter\n",
    "import itertools as it\n",
    "from fractions import Fraction\n",
    "from pprint import pprint\n",
    "\n",
    "n = 23 #define the number of dice\n",
    "p = 3 #define the number of adversaries\n",
    "\n",
    "#define a function that shows which die wins\n",
    "wins = lambda d1, d2: np.sign(sum([1 if i>j else 0 if i==j else -1 for i in d1 for j in d2]))\n",
    "\n",
    "#define a function that shows by how much\n",
    "bias = lambda d1, d2: sum([1 if i>j else 0 if i==j else -1 for i in d1 for j in d2])\n",
    "has_winning_die = lambda s: Counter([j[0] for i in s for j in d if i!=j if wins(i,j)>0]).most_common(1)[0][1]==p\n"
   ]
  },
  {
   "cell_type": "code",
   "execution_count": 4,
   "id": "f71ae5bf-a7ea-448a-acb0-07f92fc3d5c0",
   "metadata": {},
   "outputs": [
    {
     "name": "stdout",
     "output_type": "stream",
     "text": [
      "[(11, 34, 57, 80, 103, 126, 149, 172, 195, 218, 241),\n",
      " (12, 23, 65, 86, 107, 129, 144, 174, 188, 208, 250),\n",
      " (13, 35, 50, 69, 111, 132, 139, 176, 204, 221, 236),\n",
      " (14, 24, 58, 75, 92, 135, 157, 178, 197, 211, 245),\n",
      " (15, 36, 66, 81, 96, 115, 152, 180, 190, 224, 231),\n",
      " (16, 25, 51, 87, 100, 118, 147, 182, 206, 214, 240),\n",
      " (17, 37, 59, 70, 104, 121, 142, 161, 199, 227, 249),\n",
      " (18, 26, 67, 76, 108, 124, 160, 163, 192, 217, 235),\n",
      " (19, 38, 52, 82, 112, 127, 155, 165, 185, 207, 244),\n",
      " (20, 27, 60, 88, 93, 130, 150, 167, 201, 220, 230),\n",
      " (21, 39, 68, 71, 97, 133, 145, 169, 194, 210, 239),\n",
      " (22, 28, 53, 77, 101, 136, 140, 171, 187, 223, 248),\n",
      " (0, 40, 61, 83, 105, 116, 158, 173, 203, 213, 234),\n",
      " (1, 29, 46, 89, 109, 119, 153, 175, 196, 226, 243),\n",
      " (2, 41, 54, 72, 113, 122, 148, 177, 189, 216, 252),\n",
      " (3, 30, 62, 78, 94, 125, 143, 179, 205, 229, 238),\n",
      " (4, 42, 47, 84, 98, 128, 138, 181, 198, 219, 247),\n",
      " (5, 31, 55, 90, 102, 131, 156, 183, 191, 209, 233),\n",
      " (6, 43, 63, 73, 106, 134, 151, 162, 184, 222, 242),\n",
      " (7, 32, 48, 79, 110, 137, 146, 164, 200, 212, 251),\n",
      " (8, 44, 56, 85, 114, 117, 141, 166, 193, 225, 237),\n",
      " (9, 33, 64, 91, 95, 120, 159, 168, 186, 215, 246),\n",
      " (10, 45, 49, 74, 99, 123, 154, 170, 202, 228, 232)]\n"
     ]
    }
   ],
   "source": [
    "#for quick ref\n",
    "r = list(range(n))\n",
    "\n",
    "#this shows which rounds are available that are at constant skip values\n",
    "rounds = [[i*k%n for i in r] for k in range(1,n)]\n",
    "\n",
    "#these are all possible rounds that pass the test of being uniquely valued (that gcd(k,n) above is 1)\n",
    "v = sorted([i for i in rounds if len(set(i))==n],key=lambda x:x.index(1))\n",
    "\n",
    "#rotate the lists to the oscar dice form \n",
    "o = list(zip(*[i[i.index(n//2):]+i[:i.index(n//2)] for i in v]))\n",
    "\n",
    "#what are the possible values? Make sure that the number of faces is odd, and correct for the tournament\n",
    "c = next(k for k in range(1,n,2) if any(i for i in it.combinations(zip(*o),k) if len(set(map(sum,zip(*i))))==1))\n",
    "assert c==(n-1)//2\n",
    "\n",
    "#balanced values of the modulo that all add up (probably could have been done with the previous step)\n",
    "b = [i for i in it.combinations(zip(*o),c) if len(set(map(sum,zip(*i))))==1]\n",
    "\n",
    "#potential dice to check\n",
    "t = [list(zip(*[[l+j*n for l in k] for j,k in enumerate(i)])) for i in b]\n",
    "\n",
    "#make sure we didn't make any mistakes and they are uniquely valued\n",
    "assert all([c*n==len(set([j for k in i for j in k])) for i in t])\n",
    "\n",
    "#let's try the first one \n",
    "d = t[0] \n",
    "\n",
    "#assert that it works\n",
    "assert not [q for q in it.combinations([[j[0] for j in d if i!=j if wins(i,j)>0] for i in d],p) if not [j for j in range(n) if all(j in k for k in q)]]\n",
    "\n",
    "pprint(d)"
   ]
  },
  {
   "cell_type": "code",
   "execution_count": 5,
   "id": "10770c17-37c6-40db-a8f9-6a0e34437177",
   "metadata": {},
   "outputs": [
    {
     "name": "stdout",
     "output_type": "stream",
     "text": [
      "62/121\n"
     ]
    }
   ],
   "source": [
    "#double check, what is the bias?\n",
    "d1,d2 = d[:2]\n",
    "print((lambda x: Fraction(sum(x),len(x)))([i<j for i in d1 for j in d2]))"
   ]
  },
  {
   "cell_type": "code",
   "execution_count": 6,
   "id": "7dbc1788-d65d-407f-8788-a6bcc8ff8e45",
   "metadata": {},
   "outputs": [
    {
     "name": "stdout",
     "output_type": "stream",
     "text": [
      "[[ 0  3  3  3  3 -3  3 -3  3  3 -3 -3  3  3 -3 -3  3 -3  3 -3 -3 -3 -3]\n",
      " [-3  0  3  3  3  3 -3  3 -3  3  3 -3 -3  3  3 -3 -3  3 -3  3 -3 -3 -3]\n",
      " [-3 -3  0  3  3  3  3 -3  3 -3  3  3 -3 -3  3  3 -3 -3  3 -3  3 -3 -3]\n",
      " [-3 -3 -3  0  3  3  3  3 -3  3 -3  3  3 -3 -3  3  3 -3 -3  3 -3  3 -3]\n",
      " [-3 -3 -3 -3  0  3  3  3  3 -3  3 -3  3  3 -3 -3  3  3 -3 -3  3 -3  3]\n",
      " [ 3 -3 -3 -3 -3  0  3  3  3  3 -3  3 -3  3  3 -3 -3  3  3 -3 -3  3 -3]\n",
      " [-3  3 -3 -3 -3 -3  0  3  3  3  3 -3  3 -3  3  3 -3 -3  3  3 -3 -3  3]\n",
      " [ 3 -3  3 -3 -3 -3 -3  0  3  3  3  3 -3  3 -3  3  3 -3 -3  3  3 -3 -3]\n",
      " [-3  3 -3  3 -3 -3 -3 -3  0  3  3  3  3 -3  3 -3  3  3 -3 -3  3  3 -3]\n",
      " [-3 -3  3 -3  3 -3 -3 -3 -3  0  3  3  3  3 -3  3 -3  3  3 -3 -3  3  3]\n",
      " [ 3 -3 -3  3 -3  3 -3 -3 -3 -3  0  3  3  3  3 -3  3 -3  3  3 -3 -3  3]\n",
      " [ 3  3 -3 -3  3 -3  3 -3 -3 -3 -3  0  3  3  3  3 -3  3 -3  3  3 -3 -3]\n",
      " [-3  3  3 -3 -3  3 -3  3 -3 -3 -3 -3  0  3  3  3  3 -3  3 -3  3  3 -3]\n",
      " [-3 -3  3  3 -3 -3  3 -3  3 -3 -3 -3 -3  0  3  3  3  3 -3  3 -3  3  3]\n",
      " [ 3 -3 -3  3  3 -3 -3  3 -3  3 -3 -3 -3 -3  0  3  3  3  3 -3  3 -3  3]\n",
      " [ 3  3 -3 -3  3  3 -3 -3  3 -3  3 -3 -3 -3 -3  0  3  3  3  3 -3  3 -3]\n",
      " [-3  3  3 -3 -3  3  3 -3 -3  3 -3  3 -3 -3 -3 -3  0  3  3  3  3 -3  3]\n",
      " [ 3 -3  3  3 -3 -3  3  3 -3 -3  3 -3  3 -3 -3 -3 -3  0  3  3  3  3 -3]\n",
      " [-3  3 -3  3  3 -3 -3  3  3 -3 -3  3 -3  3 -3 -3 -3 -3  0  3  3  3  3]\n",
      " [ 3 -3  3 -3  3  3 -3 -3  3  3 -3 -3  3 -3  3 -3 -3 -3 -3  0  3  3  3]\n",
      " [ 3  3 -3  3 -3  3  3 -3 -3  3  3 -3 -3  3 -3  3 -3 -3 -3 -3  0  3  3]\n",
      " [ 3  3  3 -3  3 -3  3  3 -3 -3  3  3 -3 -3  3 -3  3 -3 -3 -3 -3  0  3]\n",
      " [ 3  3  3  3 -3  3 -3  3  3 -3 -3  3  3 -3 -3  3 -3  3 -3 -3 -3 -3  0]]\n"
     ]
    }
   ],
   "source": [
    "#is this true for all values?\n",
    "bias_matrix = np.array([[bias(i,j) for i in d] for j in d])\n",
    "print(bias_matrix)"
   ]
  },
  {
   "cell_type": "code",
   "execution_count": 7,
   "id": "03bfc53e-f8d2-4990-b062-421daa53bf56",
   "metadata": {},
   "outputs": [
    {
     "name": "stdout",
     "output_type": "stream",
     "text": [
      "{0: [5, 7, 10, 11, 14, 15, 17, 19, 20, 21, 22],\n",
      " 1: [0, 6, 8, 11, 12, 15, 16, 18, 20, 21, 22],\n",
      " 2: [0, 1, 7, 9, 12, 13, 16, 17, 19, 21, 22],\n",
      " 3: [0, 1, 2, 8, 10, 13, 14, 17, 18, 20, 22],\n",
      " 4: [0, 1, 2, 3, 9, 11, 14, 15, 18, 19, 21],\n",
      " 5: [1, 2, 3, 4, 10, 12, 15, 16, 19, 20, 22],\n",
      " 6: [0, 2, 3, 4, 5, 11, 13, 16, 17, 20, 21],\n",
      " 7: [1, 3, 4, 5, 6, 12, 14, 17, 18, 21, 22],\n",
      " 8: [0, 2, 4, 5, 6, 7, 13, 15, 18, 19, 22],\n",
      " 9: [0, 1, 3, 5, 6, 7, 8, 14, 16, 19, 20],\n",
      " 10: [1, 2, 4, 6, 7, 8, 9, 15, 17, 20, 21],\n",
      " 11: [2, 3, 5, 7, 8, 9, 10, 16, 18, 21, 22],\n",
      " 12: [0, 3, 4, 6, 8, 9, 10, 11, 17, 19, 22],\n",
      " 13: [0, 1, 4, 5, 7, 9, 10, 11, 12, 18, 20],\n",
      " 14: [1, 2, 5, 6, 8, 10, 11, 12, 13, 19, 21],\n",
      " 15: [2, 3, 6, 7, 9, 11, 12, 13, 14, 20, 22],\n",
      " 16: [0, 3, 4, 7, 8, 10, 12, 13, 14, 15, 21],\n",
      " 17: [1, 4, 5, 8, 9, 11, 13, 14, 15, 16, 22],\n",
      " 18: [0, 2, 5, 6, 9, 10, 12, 14, 15, 16, 17],\n",
      " 19: [1, 3, 6, 7, 10, 11, 13, 15, 16, 17, 18],\n",
      " 20: [2, 4, 7, 8, 11, 12, 14, 16, 17, 18, 19],\n",
      " 21: [3, 5, 8, 9, 12, 13, 15, 17, 18, 19, 20],\n",
      " 22: [4, 6, 9, 10, 13, 14, 16, 18, 19, 20, 21]}\n"
     ]
    }
   ],
   "source": [
    "#let's define a winning dictionary\n",
    "w = {i[0]:sorted(j[0] for j in d if wins(i,j)>0) for i in sorted(d)}\n",
    "pprint(w)"
   ]
  },
  {
   "cell_type": "code",
   "execution_count": 8,
   "id": "5c87a309-60ff-4b4b-8bb0-1189e8e65614",
   "metadata": {},
   "outputs": [
    {
     "name": "stdout",
     "output_type": "stream",
     "text": [
      "[{9, 7}, {4, 5}, {10, 5}, {5, 7}]\n"
     ]
    }
   ],
   "source": [
    "# define a function that tells you which die will beat any three dice that are given to you.\n",
    "def which_wins(dice):\n",
    "    return {i for i,j in w.items() if all(die in j for die in dice)}\n",
    "\n",
    "print([which_wins((1,3,5)),\n",
    "which_wins((1,2,3)),\n",
    "which_wins((1,2,4)),\n",
    "which_wins((1,3,4)),])"
   ]
  },
  {
   "cell_type": "code",
   "execution_count": 9,
   "id": "a914ae16-c27c-428a-ae1b-e60ff3eedc05",
   "metadata": {},
   "outputs": [],
   "source": [
    "#make sure that all combinations of dice have a winning solution.\n",
    "assert all(len(which_wins(i)) for i in it.combinations(range(n),p))\n",
    "\n",
    "#one last sanity double-check with a one-liner that checks if there always exists some number that is on all three lists for every combination of dice, this number represents the lowest face of the die\n",
    "assert all(Counter([k[0] for j in i for k in d if sum([(i1<i2)-(i1>i2) for i1,i2 in zip(j,k)])>0]).most_common(1)[0][1]==p for i in it.combinations(d,3))"
   ]
  },
  {
   "cell_type": "markdown",
   "id": "cf5a4f3c-12ad-4648-9166-de4f4d5887b4",
   "metadata": {},
   "source": [
    "There you have it! 11-sided dice that have a 62/121 chance to beat the next die on the list.  That's a 51% but if it works for roulette tables at the casino, it works for me."
   ]
  }
 ],
 "metadata": {
  "kernelspec": {
   "display_name": "Python 3 (ipykernel)",
   "language": "python",
   "name": "python3"
  },
  "language_info": {
   "codemirror_mode": {
    "name": "ipython",
    "version": 3
   },
   "file_extension": ".py",
   "mimetype": "text/x-python",
   "name": "python",
   "nbconvert_exporter": "python",
   "pygments_lexer": "ipython3",
   "version": "3.12.4"
  }
 },
 "nbformat": 4,
 "nbformat_minor": 5
}
